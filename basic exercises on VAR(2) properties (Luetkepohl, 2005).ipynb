{
 "cells": [
  {
   "cell_type": "code",
   "execution_count": 321,
   "metadata": {},
   "outputs": [],
   "source": [
    "import numpy as np\n",
    "\n",
    "import sympy as sp\n",
    "from sympy import Symbol, symbols, solve, Eq, E\n",
    "\n",
    "from sympy.matrices import Matrix, eye, BlockMatrix, zeros, block_collapse, diag\n",
    "from sympy.plotting import plot, plot_implicit\n",
    "from sympy.plotting.plot import List2DSeries\n",
    "\n",
    "from sympy.physics.quantum import TensorProduct\n",
    "\n",
    "from scipy.stats import norm\n",
    "\n",
    "import matplotlib.pyplot as plt"
   ]
  },
  {
   "cell_type": "markdown",
   "metadata": {},
   "source": [
    "$Y_t$ = $\\big[ GNP_t, M2_t, IR_t \\big]^T$\n",
    "\n",
    "$Y_t = \\nu + A_1 Y_{t-1} + A_2 Y_{t-2} + u_t$\n",
    "\n",
    "$u_t \\sim N(0, \\Sigma_u),   \\Sigma_u = PP'$"
   ]
  },
  {
   "cell_type": "code",
   "execution_count": 158,
   "metadata": {},
   "outputs": [],
   "source": [
    "nu = Matrix([2, 1, 0])\n",
    "\n",
    "A1 = Matrix([[.7, .1, 0],\n",
    "             [0, .4, .1],\n",
    "             [.9, 0, .8]])\n",
    "\n",
    "A2 = Matrix([[-.2, 0, 0],\n",
    "             [0, .1, .1],\n",
    "             [0, 0, 0]])\n",
    "\n",
    "P = Matrix([[.5, .1, 0],\n",
    "            [0, .3, 0],\n",
    "            [0, 0, .9]])"
   ]
  },
  {
   "cell_type": "code",
   "execution_count": 244,
   "metadata": {},
   "outputs": [],
   "source": [
    "Sigma = P * P.T"
   ]
  },
  {
   "cell_type": "markdown",
   "metadata": {},
   "source": [
    "## 1) Show that process $Y_t$ is stable"
   ]
  },
  {
   "cell_type": "code",
   "execution_count": 59,
   "metadata": {},
   "outputs": [],
   "source": [
    "z = Symbol('z')"
   ]
  },
  {
   "cell_type": "code",
   "execution_count": 60,
   "metadata": {},
   "outputs": [
    {
     "data": {
      "text/latex": [
       "$\\displaystyle \\left[\\begin{matrix}0.2 z^{2} - 0.7 z + 1 & - 0.1 z & 0\\\\0 & - 0.1 z^{2} - 0.4 z + 1 & - 0.1 z^{2} - 0.1 z\\\\- 0.9 z & 0 & 1 - 0.8 z\\end{matrix}\\right]$"
      ],
      "text/plain": [
       "Matrix([\n",
       "[0.2*z**2 - 0.7*z + 1,                -0.1*z,                 0],\n",
       "[                   0, -0.1*z**2 - 0.4*z + 1, -0.1*z**2 - 0.1*z],\n",
       "[              -0.9*z,                     0,         1 - 0.8*z]])"
      ]
     },
     "execution_count": 60,
     "metadata": {},
     "output_type": "execute_result"
    }
   ],
   "source": [
    "stab = eye(3) - A1 * z - A2 * z**2\n",
    "stab"
   ]
  },
  {
   "cell_type": "code",
   "execution_count": 61,
   "metadata": {},
   "outputs": [
    {
     "data": {
      "text/plain": [
       "[-5.58083612351941,\n",
       " 1.09901515470491,\n",
       " 2.89366752825762,\n",
       " 1.45032672027844 - 1.19082258398344*I,\n",
       " 1.45032672027844 + 1.19082258398344*I]"
      ]
     },
     "execution_count": 61,
     "metadata": {},
     "output_type": "execute_result"
    }
   ],
   "source": [
    "stab.det()\n",
    "roots = solve(stab.det())\n",
    "roots"
   ]
  },
  {
   "cell_type": "code",
   "execution_count": 156,
   "metadata": {},
   "outputs": [
    {
     "data": {
      "image/png": "[encoded data removed]",
      "text/plain": [
       "<Figure size 432x288 with 1 Axes>"
      ]
     },
     "metadata": {
      "needs_background": "light"
     },
     "output_type": "display_data"
    }
   ],
   "source": [
    "circle = plt.Circle((0, 0), 1, color='r', linewidth=2, fill=False)\n",
    "\n",
    "fig, ax = plt.subplots()\n",
    "plt.xlim(-6, 6)\n",
    "plt.ylim(-3,3)\n",
    "plt.grid()\n",
    "plt.title('Unit circle and roots')\n",
    "\n",
    "ax.set_aspect(1)\n",
    "\n",
    "ax.add_artist(circle)\n",
    "\n",
    "for r in roots:\n",
    "    ax.scatter(*r.as_real_imag(), color='black')"
   ]
  },
  {
   "cell_type": "markdown",
   "metadata": {},
   "source": [
    "## 2) Determine the mean vector of $y_t$."
   ]
  },
  {
   "cell_type": "code",
   "execution_count": 160,
   "metadata": {},
   "outputs": [
    {
     "data": {
      "text/latex": [
       "$\\displaystyle \\left[\\begin{matrix}6.875\\\\14.375\\\\30.9375\\end{matrix}\\right]$"
      ],
      "text/plain": [
       "Matrix([\n",
       "[  6.875],\n",
       "[ 14.375],\n",
       "[30.9375]])"
      ]
     },
     "execution_count": 160,
     "metadata": {},
     "output_type": "execute_result"
    }
   ],
   "source": [
    "mu = (eye(3) - A1 - A2).inv() * nu\n",
    "\n",
    "mu"
   ]
  },
  {
   "cell_type": "markdown",
   "metadata": {},
   "source": [
    "## 3) Write $y_t$ in VAR(1) form\n",
    "\n",
    "$Y_t = \\nu + A X_t + U_t $"
   ]
  },
  {
   "cell_type": "code",
   "execution_count": 204,
   "metadata": {},
   "outputs": [
    {
     "data": {
      "text/latex": [
       "$\\displaystyle \\left[\\begin{matrix}0.7 & 0.1 & 0 & -0.2 & 0 & 0\\\\0 & 0.4 & 0.1 & 0 & 0.1 & 0.1\\\\0.9 & 0 & 0.8 & 0 & 0 & 0\\\\1 & 0 & 0 & 0 & 0 & 0\\\\0 & 1 & 0 & 0 & 0 & 0\\\\0 & 0 & 1 & 0 & 0 & 0\\end{matrix}\\right]$"
      ],
      "text/plain": [
       "Matrix([\n",
       "[0.7, 0.1,   0, -0.2,   0,   0],\n",
       "[  0, 0.4, 0.1,    0, 0.1, 0.1],\n",
       "[0.9,   0, 0.8,    0,   0,   0],\n",
       "[  1,   0,   0,    0,   0,   0],\n",
       "[  0,   1,   0,    0,   0,   0],\n",
       "[  0,   0,   1,    0,   0,   0]])"
      ]
     },
     "execution_count": 204,
     "metadata": {},
     "output_type": "execute_result"
    }
   ],
   "source": [
    "A = Matrix(BlockMatrix([[A1, A2], [eye(3), zeros(3)]]))\n",
    "A"
   ]
  },
  {
   "cell_type": "code",
   "execution_count": 205,
   "metadata": {},
   "outputs": [
    {
     "data": {
      "text/latex": [
       "$\\displaystyle \\left[\\begin{matrix}2\\\\1\\\\0\\\\0\\\\0\\\\0\\end{matrix}\\right]$"
      ],
      "text/plain": [
       "Matrix([\n",
       "[2],\n",
       "[1],\n",
       "[0],\n",
       "[0],\n",
       "[0],\n",
       "[0]])"
      ]
     },
     "execution_count": 205,
     "metadata": {},
     "output_type": "execute_result"
    }
   ],
   "source": [
    "NU = Matrix(BlockMatrix([[nu], [zeros(3,1)]]))\n",
    "\n",
    "NU"
   ]
  },
  {
   "cell_type": "markdown",
   "metadata": {},
   "source": [
    "## 4) Compute first five matrices $\\Phi_i$ of the MA representation for the process."
   ]
  },
  {
   "cell_type": "code",
   "execution_count": 206,
   "metadata": {},
   "outputs": [
    {
     "data": {
      "text/latex": [
       "$\\displaystyle \\left[\\begin{matrix}1 & 0 & 0 & 0 & 0 & 0\\\\0 & 1 & 0 & 0 & 0 & 0\\\\0 & 0 & 1 & 0 & 0 & 0\\end{matrix}\\right]$"
      ],
      "text/plain": [
       "Matrix([\n",
       "[1, 0, 0, 0, 0, 0],\n",
       "[0, 1, 0, 0, 0, 0],\n",
       "[0, 0, 1, 0, 0, 0]])"
      ]
     },
     "execution_count": 206,
     "metadata": {},
     "output_type": "execute_result"
    }
   ],
   "source": [
    "J = Matrix(BlockMatrix([[eye(3), zeros(3)]]))\n",
    "\n",
    "J"
   ]
  },
  {
   "cell_type": "code",
   "execution_count": 217,
   "metadata": {},
   "outputs": [],
   "source": [
    "фi = []\n",
    "\n",
    "for i in range(1,6):\n",
    "    ф = J * A**i * J.T\n",
    "    фi.append(ф)"
   ]
  },
  {
   "cell_type": "code",
   "execution_count": 223,
   "metadata": {},
   "outputs": [],
   "source": [
    "Ф1, Ф2, Ф3, Ф4, Ф5 = фi"
   ]
  },
  {
   "cell_type": "code",
   "execution_count": 224,
   "metadata": {},
   "outputs": [
    {
     "data": {
      "text/latex": [
       "$\\displaystyle \\left[\\begin{matrix}0.7 & 0.1 & 0\\\\0 & 0.4 & 0.1\\\\0.9 & 0 & 0.8\\end{matrix}\\right]$"
      ],
      "text/plain": [
       "Matrix([\n",
       "[0.7, 0.1,   0],\n",
       "[  0, 0.4, 0.1],\n",
       "[0.9,   0, 0.8]])"
      ]
     },
     "execution_count": 224,
     "metadata": {},
     "output_type": "execute_result"
    }
   ],
   "source": [
    "Ф1"
   ]
  },
  {
   "cell_type": "markdown",
   "metadata": {},
   "source": [
    "## 5) Determine the autocovariances $\\Gamma_y(0) - \\Gamma_y(3)$."
   ]
  },
  {
   "cell_type": "code",
   "execution_count": 273,
   "metadata": {},
   "outputs": [],
   "source": [
    "SigmaU = Matrix(BlockMatrix([[Sigma, zeros(3)], [zeros(3), zeros(3)]]))\n",
    "\n",
    "first =  (eye( (3*2)**2 ) - TensorProduct(A, A)).inv()\n",
    "second = SigmaU.vec()\n",
    "\n",
    "vecГY0 = first * second\n",
    "ГY0 = vecГY0.reshape(6,6)"
   ]
  },
  {
   "cell_type": "code",
   "execution_count": 266,
   "metadata": {},
   "outputs": [
    {
     "data": {
      "text/latex": [
       "$\\displaystyle \\left[\\begin{matrix}0.447181655548895 & 0.191394821784428 & 0.556959329546081\\\\0.191394821784427 & 0.843734428950632 & 1.64527595980267\\\\0.556959329546082 & 1.64527595980267 & 5.48399604316934\\end{matrix}\\right]$"
      ],
      "text/plain": [
       "Matrix([\n",
       "[0.447181655548895, 0.191394821784428, 0.556959329546081],\n",
       "[0.191394821784427, 0.843734428950632,  1.64527595980267],\n",
       "[0.556959329546082,  1.64527595980267,  5.48399604316934]])"
      ]
     },
     "execution_count": 266,
     "metadata": {},
     "output_type": "execute_result"
    }
   ],
   "source": [
    "Гy0 = ГY0[0:3,0:3]\n",
    "Гy0"
   ]
  },
  {
   "cell_type": "code",
   "execution_count": 272,
   "metadata": {},
   "outputs": [
    {
     "data": {
      "text/latex": [
       "$\\displaystyle \\left[\\begin{matrix}0.276805534218891 & 0.180591359893882 & 0.38479293593635\\\\0.188792291251402 & 0.762713033077856 & 1.84420362209551\\\\0.848030953630872 & 1.48847610744812 & 4.88846023112695\\end{matrix}\\right]$"
      ],
      "text/plain": [
       "Matrix([\n",
       "[0.276805534218891, 0.180591359893882, 0.38479293593635],\n",
       "[0.188792291251402, 0.762713033077856, 1.84420362209551],\n",
       "[0.848030953630872,  1.48847610744812, 4.88846023112695]])"
      ]
     },
     "execution_count": 272,
     "metadata": {},
     "output_type": "execute_result"
    }
   ],
   "source": [
    "Гy1 = ГY0[0:3,3:6]\n",
    "Гy1"
   ]
  },
  {
   "cell_type": "code",
   "execution_count": 304,
   "metadata": {},
   "outputs": [],
   "source": [
    "Гy2 = A1 * Гy1 + A2 * Гy0\n",
    "Гy3 = A1 * Гy2 + A2 * Гy1"
   ]
  },
  {
   "cell_type": "markdown",
   "metadata": {},
   "source": [
    "## 6) Determine the autocorrelations $R_y(0) - R_y(3)$."
   ]
  },
  {
   "cell_type": "code",
   "execution_count": 328,
   "metadata": {},
   "outputs": [],
   "source": [
    "f = lambda x: x ** 0.5\n",
    "\n",
    "d = Гy0.diagonal()\n",
    "d = d.applyfunc(f)\n",
    "\n",
    "D = Matrix.diag(*d)"
   ]
  },
  {
   "cell_type": "code",
   "execution_count": 329,
   "metadata": {},
   "outputs": [
    {
     "data": {
      "text/latex": [
       "$\\displaystyle \\left[\\begin{matrix}1.0 & 0.311591289451092 & 0.355658282599936\\\\0.311591289451091 & 1.0 & 0.764869423889553\\\\0.355658282599936 & 0.764869423889553 & 1.0\\end{matrix}\\right]$"
      ],
      "text/plain": [
       "Matrix([\n",
       "[              1.0, 0.311591289451092, 0.355658282599936],\n",
       "[0.311591289451091,               1.0, 0.764869423889553],\n",
       "[0.355658282599936, 0.764869423889553,               1.0]])"
      ]
     },
     "execution_count": 329,
     "metadata": {},
     "output_type": "execute_result"
    }
   ],
   "source": [
    "Ry0 = D.inv() * Гy0 * D.inv()\n",
    "Ry0"
   ]
  },
  {
   "cell_type": "code",
   "execution_count": 330,
   "metadata": {},
   "outputs": [],
   "source": [
    "Ry1 = D.inv() * Гy1 * D.inv()\n",
    "Ry2 = D.inv() * Гy2 * D.inv()\n",
    "Ry3 = D.inv() * Гy3 * D.inv()"
   ]
  },
  {
   "cell_type": "markdown",
   "metadata": {},
   "source": [
    "## 7) Suppose that $y_{2000}$ = $\\big[0.7, \\ 1.0, \\ 1.5\\big]^T $ and $y_{1999}$ = $\\big[1.0, \\ 1.5, \\ 3.0\\big]^T $. Forecast $y_{2001}, y_{2002}, y_{2003}$"
   ]
  },
  {
   "cell_type": "code",
   "execution_count": 311,
   "metadata": {},
   "outputs": [],
   "source": [
    "y2000 = Matrix([.7, 1., 1.5])\n",
    "y1999 = Matrix([1., 1.5, 3.])"
   ]
  },
  {
   "cell_type": "code",
   "execution_count": 313,
   "metadata": {},
   "outputs": [
    {
     "data": {
      "text/latex": [
       "$\\displaystyle \\left[\\begin{matrix}2.39\\\\2.0\\\\1.83\\end{matrix}\\right]$"
      ],
      "text/plain": [
       "Matrix([\n",
       "[2.39],\n",
       "[ 2.0],\n",
       "[1.83]])"
      ]
     },
     "execution_count": 313,
     "metadata": {},
     "output_type": "execute_result"
    }
   ],
   "source": [
    "y2001 = nu + A1 * y2000 + A2 * y1999\n",
    "y2001"
   ]
  },
  {
   "cell_type": "code",
   "execution_count": 316,
   "metadata": {},
   "outputs": [],
   "source": [
    "y2002 = nu + A1 * y2001 + A2 * y2000\n",
    "y2003 = nu + A1 * y2002 + A2 * y2001"
   ]
  },
  {
   "cell_type": "markdown",
   "metadata": {},
   "source": [
    "## 8) Compute the MSE matrices for the forecast horizons $h = 1, 2, 3$"
   ]
  },
  {
   "cell_type": "code",
   "execution_count": 317,
   "metadata": {},
   "outputs": [
    {
     "data": {
      "text/latex": [
       "$\\displaystyle \\left[\\begin{matrix}0.26 & 0.03 & 0\\\\0.03 & 0.09 & 0\\\\0 & 0 & 0.81\\end{matrix}\\right]$"
      ],
      "text/plain": [
       "Matrix([\n",
       "[0.26, 0.03,    0],\n",
       "[0.03, 0.09,    0],\n",
       "[   0,    0, 0.81]])"
      ]
     },
     "execution_count": 317,
     "metadata": {},
     "output_type": "execute_result"
    }
   ],
   "source": [
    "MSE1 = Sigma\n",
    "MSE1"
   ]
  },
  {
   "cell_type": "code",
   "execution_count": 353,
   "metadata": {},
   "outputs": [],
   "source": [
    "MSE2 = MSE1 + Ф1 * Sigma * Ф1.T\n",
    "MSE3 = MSE2 + Ф2 * Sigma * Ф2.T"
   ]
  },
  {
   "cell_type": "markdown",
   "metadata": {},
   "source": [
    "## 9) Assuming that $y_t$ is Gaussian, construct $95\\%$ confidence intervals for $t=2001, 2002, 2003$."
   ]
  },
  {
   "cell_type": "code",
   "execution_count": 325,
   "metadata": {},
   "outputs": [],
   "source": [
    "alpha = 0.95\n",
    "z95 = norm.ppf(1 - (1 - alpha)/2)"
   ]
  },
  {
   "cell_type": "code",
   "execution_count": 338,
   "metadata": {},
   "outputs": [
    {
     "data": {
      "text/latex": [
       "$\\displaystyle \\left[\\begin{matrix}0.99938946031088\\\\0.587989195362016\\\\1.76396758608605\\end{matrix}\\right]$"
      ],
      "text/plain": [
       "Matrix([\n",
       "[ 0.99938946031088],\n",
       "[0.587989195362016],\n",
       "[ 1.76396758608605]])"
      ]
     },
     "execution_count": 338,
     "metadata": {},
     "output_type": "execute_result"
    }
   ],
   "source": [
    "err2001 = MSE1.diagonal().reshape(3,1).applyfunc(lambda x: x**0.5) * z95\n",
    "err2001"
   ]
  },
  {
   "cell_type": "code",
   "execution_count": 341,
   "metadata": {},
   "outputs": [],
   "source": [
    "cf2001 = (y2001-err2001, y2001+err2001)"
   ]
  },
  {
   "cell_type": "code",
   "execution_count": 342,
   "metadata": {},
   "outputs": [],
   "source": [
    "err2002 = MSE2.diagonal().reshape(3,1).applyfunc(lambda x: x**0.5) * z95\n",
    "err2003 = MSE3.diagonal().reshape(3,1).applyfunc(lambda x: x**0.5) * z95\n",
    "\n",
    "cf2002 = (y2002-err2002, y2002+err2002)\n",
    "cf2003 = (y2003-err2003, y2003+err2003)"
   ]
  },
  {
   "cell_type": "markdown",
   "metadata": {},
   "source": [
    "## 10) Using Bonferroni method, determine a joint forecast region for $GNP_{2001}, GNP_{2002}, GNP_{2003}$ with probability content at least $97\\%$."
   ]
  },
  {
   "cell_type": "code",
   "execution_count": 401,
   "metadata": {},
   "outputs": [],
   "source": [
    "alpha = 0.99\n",
    "z99 = norm.ppf(1 - (1-alpha)/2 )"
   ]
  },
  {
   "cell_type": "code",
   "execution_count": 349,
   "metadata": {},
   "outputs": [],
   "source": [
    "GNP2001 = y2001[0]\n",
    "GNP2002 = y2002[0]\n",
    "GNP2003 = y2003[0]"
   ]
  },
  {
   "cell_type": "code",
   "execution_count": 351,
   "metadata": {},
   "outputs": [],
   "source": [
    "GNPerr2001 = MSE1[0,0] ** 0.5 * z99\n",
    "GNPerr2002 = MSE2[0,0] ** 0.5 * z99\n",
    "GNPerr2003 = MSE3[0,0] ** 0.5 * z99"
   ]
  },
  {
   "cell_type": "code",
   "execution_count": 352,
   "metadata": {},
   "outputs": [
    {
     "data": {
      "text/latex": [
       "$\\displaystyle \\left[\\begin{matrix}1.076579611752 & 3.703420388248\\\\2.11924756672505 & 5.34675243327495\\\\2.69414713877479 & 6.02265286122521\\end{matrix}\\right]$"
      ],
      "text/plain": [
       "Matrix([\n",
       "[  1.076579611752,   3.703420388248],\n",
       "[2.11924756672505, 5.34675243327495],\n",
       "[2.69414713877479, 6.02265286122521]])"
      ]
     },
     "execution_count": 352,
     "metadata": {},
     "output_type": "execute_result"
    }
   ],
   "source": [
    "jointGNP = Matrix([[GNP2001 - GNPerr2001, GNP2001 + GNPerr2001],\n",
    "                  [GNP2002 - GNPerr2002, GNP2002 + GNPerr2002],\n",
    "                  [GNP2003 - GNPerr2003, GNP2003 + GNPerr2003]])\n",
    "\n",
    "jointGNP"
   ]
  },
  {
   "cell_type": "markdown",
   "metadata": {},
   "source": [
    "## 11) Check the following causality relationships:\n",
    "\n",
    "* M2 is Granger causal for (GNP, IR)\n",
    "* IR is Granger causal for (GNP, M2)\n",
    "* M2 is instanteous causal for (GNP, IR)\n",
    "* IR is instanteous causal for (GNP, M2)\n"
   ]
  },
  {
   "cell_type": "code",
   "execution_count": 397,
   "metadata": {},
   "outputs": [
    {
     "data": {
      "text/latex": [
       "$\\displaystyle \\left[\\begin{matrix}0 & 0.1\\end{matrix}\\right]$"
      ],
      "text/plain": [
       "Matrix([[0, 0.1]])"
      ]
     },
     "execution_count": 397,
     "metadata": {},
     "output_type": "execute_result"
    }
   ],
   "source": [
    "#GNP, M2, IR -> M2, GNP, IR\n",
    "#If any is nonzero, than causal\n",
    "\n",
    "permA1 = A1.elementary_col_op(\"n<->m\", 1,0).elementary_row_op(\"n<->m\", 1, 0)\n",
    "permA1[0,1:3]"
   ]
  },
  {
   "cell_type": "code",
   "execution_count": 398,
   "metadata": {},
   "outputs": [
    {
     "data": {
      "text/latex": [
       "$\\displaystyle \\left[\\begin{matrix}0 & 0.9\\end{matrix}\\right]$"
      ],
      "text/plain": [
       "Matrix([[0, 0.9]])"
      ]
     },
     "execution_count": 398,
     "metadata": {},
     "output_type": "execute_result"
    }
   ],
   "source": [
    "#GNP, M2, IR -> IR, GNP, M2\n",
    "permA1 = A1.elementary_col_op(\"n<->m\", 2,0).elementary_row_op(\"n<->m\", 2, 0)\n",
    "permA1[0,1:3]"
   ]
  },
  {
   "cell_type": "code",
   "execution_count": 399,
   "metadata": {},
   "outputs": [
    {
     "data": {
      "text/latex": [
       "$\\displaystyle \\left[\\begin{matrix}0.03 & 0\\end{matrix}\\right]$"
      ],
      "text/plain": [
       "Matrix([[0.03, 0]])"
      ]
     },
     "execution_count": 399,
     "metadata": {},
     "output_type": "execute_result"
    }
   ],
   "source": [
    "#GNP, M2, IR -> M2, GNP, IR\n",
    "permS = Sigma.elementary_col_op(\"n<->m\", 1,0).elementary_row_op(\"n<->m\", 1, 0)\n",
    "permS[0,1:3]"
   ]
  },
  {
   "cell_type": "code",
   "execution_count": 400,
   "metadata": {},
   "outputs": [
    {
     "data": {
      "text/latex": [
       "$\\displaystyle \\left[\\begin{matrix}0 & 0\\end{matrix}\\right]$"
      ],
      "text/plain": [
       "Matrix([[0, 0]])"
      ]
     },
     "execution_count": 400,
     "metadata": {},
     "output_type": "execute_result"
    }
   ],
   "source": [
    "#GNP, M2, IR -> IR, GNP, M2\n",
    "permS = Sigma.elementary_col_op(\"n<->m\", 2,0).elementary_row_op(\"n<->m\", 2, 0)\n",
    "permS[0,1:3]"
   ]
  },
  {
   "cell_type": "markdown",
   "metadata": {},
   "source": [
    "## 12) Plot the effect of unit innovation in IR on the three variables in term of MA representation for 5 periods."
   ]
  },
  {
   "cell_type": "code",
   "execution_count": 419,
   "metadata": {},
   "outputs": [],
   "source": [
    "irIR1 = (J * A * J.T)[:,2]\n",
    "irIR2 = (J * A**2 * J.T)[:,2]\n",
    "irIR3 = (J * A**3 * J.T)[:,2]\n",
    "irIR4 = (J * A**4 * J.T)[:,2]\n",
    "irIR5 = (J * A**5 * J.T)[:,2]"
   ]
  },
  {
   "cell_type": "code",
   "execution_count": 420,
   "metadata": {},
   "outputs": [
    {
     "data": {
      "text/latex": [
       "$\\displaystyle \\left[\\begin{matrix}0 & 0.01 & 0.029 & 0.0425 & 0.04744\\\\0.1 & 0.22 & 0.242 & 0.2349 & 0.21455\\\\0.8 & 0.64 & 0.521 & 0.4429 & 0.39257\\end{matrix}\\right]$"
      ],
      "text/plain": [
       "Matrix([\n",
       "[  0, 0.01, 0.029, 0.0425, 0.04744],\n",
       "[0.1, 0.22, 0.242, 0.2349, 0.21455],\n",
       "[0.8, 0.64, 0.521, 0.4429, 0.39257]])"
      ]
     },
     "execution_count": 420,
     "metadata": {},
     "output_type": "execute_result"
    }
   ],
   "source": [
    "irIR = Matrix([[irIR1, irIR2, irIR3, irIR4, irIR5]])\n",
    "\n",
    "irIR"
   ]
  },
  {
   "cell_type": "code",
   "execution_count": 434,
   "metadata": {},
   "outputs": [
    {
     "data": {
      "image/png": "[encoded data removed]",
      "text/plain": [
       "<Figure size 576x432 with 1 Axes>"
      ]
     },
     "metadata": {
      "needs_background": "light"
     },
     "output_type": "display_data"
    }
   ],
   "source": [
    "irIR_np = np.array(irIR)\n",
    "\n",
    "plt.figure(figsize=(8,6))\n",
    "plt.plot(irIR_np[0], label='GNP response')\n",
    "plt.plot(irIR_np[1], label='M2 response')\n",
    "plt.plot(irIR_np[2], label='IR response')\n",
    "plt.grid()\n",
    "plt.legend()\n",
    "plt.show()"
   ]
  },
  {
   "cell_type": "code",
   "execution_count": null,
   "metadata": {},
   "outputs": [],
   "source": []
  },
  {
   "cell_type": "code",
   "execution_count": null,
   "metadata": {},
   "outputs": [],
   "source": []
  },
  {
   "cell_type": "code",
   "execution_count": null,
   "metadata": {},
   "outputs": [],
   "source": []
  },
  {
   "cell_type": "code",
   "execution_count": null,
   "metadata": {},
   "outputs": [],
   "source": []
  },
  {
   "cell_type": "code",
   "execution_count": null,
   "metadata": {},
   "outputs": [],
   "source": []
  }
 ],
 "metadata": {
  "kernelspec": {
   "display_name": "Python 3",
   "language": "python",
   "name": "python3"
  },
  "language_info": {
   "codemirror_mode": {
    "name": "ipython",
    "version": 3
   },
   "file_extension": ".py",
   "mimetype": "text/x-python",
   "name": "python",
   "nbconvert_exporter": "python",
   "pygments_lexer": "ipython3",
   "version": "3.8.5"
  }
 },
 "nbformat": 4,
 "nbformat_minor": 4
}
